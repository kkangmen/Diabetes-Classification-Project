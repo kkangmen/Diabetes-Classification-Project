{
  "nbformat": 4,
  "nbformat_minor": 0,
  "metadata": {
    "colab": {
      "provenance": []
    },
    "kernelspec": {
      "name": "python3",
      "display_name": "Python 3"
    },
    "language_info": {
      "name": "python"
    }
  },
  "cells": [
    {
      "cell_type": "code",
      "source": [],
      "metadata": {
        "id": "amvVLyr17LIl"
      },
      "execution_count": null,
      "outputs": []
    },
    {
      "cell_type": "code",
      "execution_count": null,
      "metadata": {
        "id": "Sl5ZG4KlJPSm"
      },
      "outputs": [],
      "source": [
        "from google.colab import drive\n",
        "drive.mount('/content/drive')"
      ]
    },
    {
      "cell_type": "code",
      "source": [
        "import pandas as pd\n",
        "from sklearn.model_selection import train_test_split\n",
        "from sklearn.preprocessing import OrdinalEncoder, MinMaxScaler"
      ],
      "metadata": {
        "id": "u1ZnYIvhsfNh"
      },
      "execution_count": 75,
      "outputs": []
    },
    {
      "cell_type": "code",
      "source": [
        "file_path = '/content/drive/MyDrive/teamproject/Diabetes-Classification-Project/diabetes_dataset.csv'\n",
        "data = pd.read_csv(file_path)\n",
        "\n",
        "print(data.shape) # (행, 열) = (100000, 31)\n",
        "print(data.head(10))"
      ],
      "metadata": {
        "id": "nTa9LbKJuHLo",
        "collapsed": true
      },
      "execution_count": null,
      "outputs": []
    },
    {
      "cell_type": "code",
      "source": [
        "### train_data, train_label, test_data, test_label 데이터셋 분리\n",
        "\n",
        "# lable 분리 ('diabetes_stage') (다중분류)\n",
        "label = data['diabetes_stage']\n",
        "not_use = ['diabetes_stage', 'diagnosed_diabetes'] # 안쓰는 특성\n",
        "features = data.drop(not_use, axis=1)\n",
        "\n",
        "# train, test 데이터셋 분리 train:80%, test:20%\n",
        "train_data, test_data, train_labels, test_labels = train_test_split(features, label, test_size=0.2, random_state = 0, stratify = label)\n",
        "\n",
        "print(f\"train_data: {train_data.shape}\")\n",
        "print(f\"train_labels: {train_labels.shape}\")\n",
        "print(f\"test_data: {test_data.shape}\")\n",
        "print(f\"test_labels: {test_labels.shape}\")"
      ],
      "metadata": {
        "id": "9XlvVxPEo7uB"
      },
      "execution_count": null,
      "outputs": []
    },
    {
      "cell_type": "code",
      "source": [
        "### 결측치 존재 유무 확인 -> diabetes dataset에 결측치 하나도 없음\n",
        "print(f\"train_data 결측치 개수: {train_data.isnull().sum().sum()}\")\n",
        "print(f\"train_labels 결측치 개수: {train_labels.isnull().sum().sum()}\")\n",
        "print(f\"test_data 결측치 개수: {test_data.isnull().sum().sum()}\")\n",
        "print(f\"test_labels 결측치 개수: {test_labels.isnull().sum().sum()}\")"
      ],
      "metadata": {
        "id": "9ur-sKF-riej"
      },
      "execution_count": null,
      "outputs": []
    },
    {
      "cell_type": "code",
      "source": [
        "### 데이터 정규화\n",
        "\n",
        "# 순서가 없는 범주형 데이터 -> 'One-Hot Encoding'\n",
        "## gender, ethnicity, employment_status, smoking_status, family_history_diabetes, hypertension_history, cardiovascular_history\n",
        "orderless_categorical_feature = ['gender', 'ethnicity', 'employment_status', 'smoking_status', 'family_history_diabetes', 'hypertension_history', 'cardiovascular_history']\n",
        "\n",
        "train_olcf_encode = pd.get_dummies(train_data[orderless_categorical_feature])\n",
        "test_olcf_encode = pd.get_dummies(test_data[orderless_categorical_feature])\n",
        "## boolean 형태 -> 0/1 형태 변환\n",
        "train_olcf_encode = train_olcf_encode.astype(int)\n",
        "test_olcf_encode  = test_olcf_encode.astype(int)\n",
        "\n",
        "\n",
        "\n",
        "# 순서가 있는 범주형 데이터 -> 'Label Encoding' -> 'OrdinalEncoder'\n",
        "## education_level, income_level\n",
        "order_categorical_feature = ['education_level', 'income_level']\n",
        "\n",
        "## 원본 features에서 같은 인덱스로 순서형 열만\n",
        "train_ocf_data = features.loc[train_data.index, order_categorical_feature].copy()\n",
        "test_ocf_data  = features.loc[test_data.index,  order_categorical_feature].copy()\n",
        "\n",
        "\n",
        "## 기준 순서 정의\n",
        "edu_order = ['No formal', 'Highschool', 'Graduate', 'Postgraduate']\n",
        "inc_order = ['Low', 'Lower-Middle', 'Middle', 'Upper-Middle', 'High']\n",
        "\n",
        "# 순서형 인코더 정의\n",
        "ord_enc = OrdinalEncoder(\n",
        "    categories=[edu_order, inc_order],\n",
        "    handle_unknown='use_encoded_value',\n",
        "    unknown_value=-1\n",
        ")\n",
        "\n",
        "train_ocf_encoded = ord_enc.fit_transform(train_ocf_data)\n",
        "test_ocf_encoded  = ord_enc.transform(test_ocf_data)\n",
        "\n",
        "train_ocf_encoded = pd.DataFrame(\n",
        "    train_ocf_encoded, columns=order_categorical_feature, index=train_ocf_data.index\n",
        ")\n",
        "test_ocf_encoded = pd.DataFrame(\n",
        "    test_ocf_encoded, columns=order_categorical_feature, index=test_ocf_data.index\n",
        ")\n",
        "\n",
        "# 0~1 스케일링 (MinMaxScaler)\n",
        "scaler = MinMaxScaler()\n",
        "train_ocf_scaled = pd.DataFrame(\n",
        "    scaler.fit_transform(train_ocf_encoded),\n",
        "    columns=[f\"{c}_scaled\" for c in order_categorical_feature],\n",
        "    index=train_ocf_encoded.index\n",
        ")\n",
        "test_ocf_scaled = pd.DataFrame(\n",
        "    scaler.transform(test_ocf_encoded),\n",
        "    columns=[f\"{c}_scaled\" for c in order_categorical_feature],\n",
        "    index=test_ocf_encoded.index\n",
        ")\n",
        "\n",
        "test_olcf_encode = test_olcf_encode.reindex(columns=train_olcf_encode.columns, fill_value=0)\n",
        "\n",
        "# 결합\n",
        "train_data_normalized = pd.concat(\n",
        "    [train_data.reset_index(drop=True),\n",
        "     train_ocf_scaled.reset_index(drop=True),\n",
        "     train_olcf_encode.reset_index(drop=True)],\n",
        "    axis=1\n",
        ")\n",
        "test_data_normalized = pd.concat(\n",
        "    [test_data.reset_index(drop=True),\n",
        "     test_ocf_scaled.reset_index(drop=True),\n",
        "     test_olcf_encode.reset_index(drop=True)],\n",
        "    axis=1\n",
        ")\n",
        "\n",
        "\n",
        "# 수치형 데이터 -> '그냥 정규화'\n",
        "## age, alcohol_consumption_per_week, physical_activity_minutes_per_week, diet_score, sleep_hours_per_day, screen_time_hours_per_day, bmi, waist_to_hip_ratio\n",
        "## systolic_bp, diastolic_bp, heart_rate, cholesterol_total, cholesterol_total, ldl_cholesterol, triglycerides, glucose_fasting, glucose_postprandial, insulin_level\n",
        "## hba1c, diabetes_risk_score\n",
        "numerical_feature = ['age', 'alcohol_consumption_per_week', 'physical_activity_minutes_per_week', 'diet_score', 'sleep_hours_per_day', 'screen_time_hours_per_day', 'bmi', 'waist_to_hip_ratio',\n",
        "'systolic_bp', 'diastolic_bp', 'heart_rate', 'cholesterol_total', 'hdl_cholesterol', 'ldl_cholesterol', 'triglycerides', 'glucose_fasting', 'glucose_postprandial', 'insulin_level',\n",
        "'hba1c', 'diabetes_risk_score']\n",
        "\n",
        "mean = train_data[numerical_feature].mean(axis=0)\n",
        "std = train_data[numerical_feature].mean(axis=0)\n",
        "\n",
        "train_data = (train_data[numerical_feature] - mean) / std\n",
        "test_data = (test_data[numerical_feature] - mean) / std\n",
        "\n",
        "print(len(order_categorical_feature))\n",
        "print(len(orderless_categorical_feature))\n",
        "print(len(numerical_feature))\n",
        "print(len(orderless_categorical_feature) + len(order_categorical_feature) + len(numerical_feature))"
      ],
      "metadata": {
        "id": "JBIi_ksVsbXU"
      },
      "execution_count": null,
      "outputs": []
    },
    {
      "cell_type": "code",
      "source": [
        "# 수치형 데이터\n",
        "\n",
        "print(train_data.head())\n",
        "print(test_data.head())\n",
        "\n"
      ],
      "metadata": {
        "id": "p-R5jH_w1ZRT"
      },
      "execution_count": null,
      "outputs": []
    },
    {
      "cell_type": "code",
      "source": [
        "# train 기준으로 test의 더미 컬럼(원-핫 열) 정렬/보정\n",
        "## test 에 없는 열은 새로 만들고 0 으로 채움\n",
        "test_olcf_encode = test_olcf_encode.reindex(columns=train_olcf_encode.columns, fill_value=0)\n",
        "\n",
        "\n",
        "train_data_normalized = pd.concat([train_data.reset_index(drop=True),\n",
        "                                   train_olcf_encode.reset_index(drop=True)], axis=1)\n",
        "test_data_normalized  = pd.concat([test_data.reset_index(drop=True),\n",
        "                                   test_olcf_encode.reset_index(drop=True)], axis=1)\n"
      ],
      "metadata": {
        "id": "-ZCMKhLCkcxI"
      },
      "execution_count": 81,
      "outputs": []
    },
    {
      "cell_type": "code",
      "source": [
        "\n",
        "# 무순서 범주 데이터\n",
        "print(\"*정규화된 train 데이터 샘플\")\n",
        "print(train_data_normalized.head())\n",
        "\n",
        "print(\"\\n*정규화된 test 데이터 샘플 \")\n",
        "print(test_data_normalized.head())\n",
        "\n",
        "print(\"\\n*무순서 범주형(원-핫 인코딩)\")\n",
        "print(train_olcf_encode.head())"
      ],
      "metadata": {
        "id": "6i854-g1kq0N"
      },
      "execution_count": null,
      "outputs": []
    },
    {
      "cell_type": "code",
      "source": [
        "# 순서 범주 데이터\n",
        "print(\"\\n*순서형 범주형 데이터\")\n",
        "print(train_ocf_scaled.head())\n",
        "\n",
        "print(\"\\n*순서형 범주형 데이터\")\n",
        "print(test_ocf_scaled.head())\n",
        "\n",
        "print(\"\\ntrain_data_normalized shape:\", train_data_normalized.shape)\n",
        "print(\"test_data_normalized  shape:\", test_data_normalized.shape)"
      ],
      "metadata": {
        "id": "FwMzY9EY1VNx"
      },
      "execution_count": null,
      "outputs": []
    }
  ]
}