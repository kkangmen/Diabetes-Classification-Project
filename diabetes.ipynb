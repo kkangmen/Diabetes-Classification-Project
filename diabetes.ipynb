{
  "nbformat": 4,
  "nbformat_minor": 0,
  "metadata": {
    "colab": {
      "provenance": []
    },
    "kernelspec": {
      "name": "python3",
      "display_name": "Python 3"
    },
    "language_info": {
      "name": "python"
    }
  },
  "cells": [
    {
      "cell_type": "code",
      "execution_count": 8,
      "metadata": {
        "id": "Sl5ZG4KlJPSm",
        "colab": {
          "base_uri": "https://localhost:8080/"
        },
        "outputId": "50741e64-7ac0-4de1-c538-8c7d555e57c6"
      },
      "outputs": [
        {
          "output_type": "stream",
          "name": "stdout",
          "text": [
            "Drive already mounted at /content/drive; to attempt to forcibly remount, call drive.mount(\"/content/drive\", force_remount=True).\n"
          ]
        }
      ],
      "source": [
        "from google.colab import drive\n",
        "drive.mount('/content/drive')"
      ]
    },
    {
      "cell_type": "code",
      "source": [
        "import pandas as pd\n",
        "from sklearn.model_selection import train_test_split\n",
        "from sklearn.preprocessing import OrdinalEncoder"
      ],
      "metadata": {
        "id": "u1ZnYIvhsfNh"
      },
      "execution_count": 3,
      "outputs": []
    },
    {
      "cell_type": "code",
      "source": [
        "file_path = '/content/drive/MyDrive/teamproject/Diabetes-Classification-Project/diabetes_dataset.csv'\n",
        "data = pd.read_csv(file_path)\n",
        "\n",
        "print(data.shape) # (행, 열) = (100000, 31)\n",
        "print(data.head(10))"
      ],
      "metadata": {
        "id": "nTa9LbKJuHLo",
        "colab": {
          "base_uri": "https://localhost:8080/"
        },
        "outputId": "d10f1484-46b6-455e-d576-51da5becf60a"
      },
      "execution_count": 9,
      "outputs": [
        {
          "output_type": "stream",
          "name": "stdout",
          "text": [
            "(100000, 31)\n",
            "   age  gender ethnicity education_level  income_level employment_status  \\\n",
            "0   58    Male     Asian      Highschool  Lower-Middle          Employed   \n",
            "1   48  Female     White      Highschool        Middle          Employed   \n",
            "2   60    Male  Hispanic      Highschool        Middle        Unemployed   \n",
            "3   74  Female     Black      Highschool           Low           Retired   \n",
            "4   46    Male     White        Graduate        Middle           Retired   \n",
            "5   46  Female     White      Highschool  Upper-Middle          Employed   \n",
            "6   75  Female     White        Graduate  Upper-Middle           Retired   \n",
            "7   62    Male     White    Postgraduate        Middle        Unemployed   \n",
            "8   42    Male     Black      Highschool  Lower-Middle          Employed   \n",
            "9   59  Female     White        Graduate        Middle          Employed   \n",
            "\n",
            "  smoking_status  alcohol_consumption_per_week  \\\n",
            "0          Never                             0   \n",
            "1         Former                             1   \n",
            "2          Never                             1   \n",
            "3          Never                             0   \n",
            "4          Never                             1   \n",
            "5          Never                             2   \n",
            "6          Never                             0   \n",
            "7        Current                             1   \n",
            "8        Current                             1   \n",
            "9        Current                             3   \n",
            "\n",
            "   physical_activity_minutes_per_week  diet_score  ...  hdl_cholesterol  \\\n",
            "0                                 215         5.7  ...               41   \n",
            "1                                 143         6.7  ...               55   \n",
            "2                                  57         6.4  ...               66   \n",
            "3                                  49         3.4  ...               50   \n",
            "4                                 109         7.2  ...               52   \n",
            "5                                 124         9.0  ...               61   \n",
            "6                                  53         9.2  ...               46   \n",
            "7                                  75         4.1  ...               49   \n",
            "8                                 114         6.7  ...               33   \n",
            "9                                  86         8.2  ...               52   \n",
            "\n",
            "   ldl_cholesterol  triglycerides  glucose_fasting  glucose_postprandial  \\\n",
            "0              160            145              136                   236   \n",
            "1               50             30               93                   150   \n",
            "2               99             36              118                   195   \n",
            "3               79            140              139                   253   \n",
            "4              125            160              137                   184   \n",
            "5              119            179              100                   133   \n",
            "6              161            155              101                   100   \n",
            "7              159            120              110                   189   \n",
            "8              132             98              116                   172   \n",
            "9              103            104               76                   109   \n",
            "\n",
            "   insulin_level  hba1c  diabetes_risk_score  diabetes_stage  \\\n",
            "0           6.36   8.18                 29.6          Type 2   \n",
            "1           2.00   5.63                 23.0     No Diabetes   \n",
            "2           5.07   7.51                 44.7          Type 2   \n",
            "3           5.28   9.03                 38.2          Type 2   \n",
            "4          12.74   7.20                 23.5          Type 2   \n",
            "5           8.77   6.03                 23.5    Pre-Diabetes   \n",
            "6          10.14   5.24                 36.1    Pre-Diabetes   \n",
            "7           8.96   7.04                 34.2          Type 2   \n",
            "8           5.70   6.90                 26.7          Type 2   \n",
            "9           4.49   4.99                 30.0     No Diabetes   \n",
            "\n",
            "   diagnosed_diabetes  \n",
            "0                   1  \n",
            "1                   0  \n",
            "2                   1  \n",
            "3                   1  \n",
            "4                   1  \n",
            "5                   0  \n",
            "6                   0  \n",
            "7                   1  \n",
            "8                   1  \n",
            "9                   0  \n",
            "\n",
            "[10 rows x 31 columns]\n"
          ]
        }
      ]
    },
    {
      "cell_type": "code",
      "source": [
        "### train_data, train_label, test_data, test_label 데이터셋 분리\n",
        "\n",
        "# lable 분리 ('diabetes_stage') (다중분류)\n",
        "label = data['diabetes_stage']\n",
        "not_use = ['diabetes_stage', 'diagnosed_diabetes'] # 안쓰는 특성\n",
        "features = data.drop(not_use, axis=1)\n",
        "\n",
        "# train, test 데이터셋 분리 train:80%, test:20%\n",
        "train_data, test_data, train_labels, test_labels = train_test_split(features, label, test_size=0.2, random_state = 0, stratify = label)\n",
        "\n",
        "print(f\"train_data: {train_data.shape}\")\n",
        "print(f\"train_labels: {train_labels.shape}\")\n",
        "print(f\"test_data: {test_data.shape}\")\n",
        "print(f\"test_labels: {test_labels.shape}\")"
      ],
      "metadata": {
        "id": "9XlvVxPEo7uB"
      },
      "execution_count": null,
      "outputs": []
    },
    {
      "cell_type": "code",
      "source": [
        "### 결측치 존재 유무 확인 -> diabetes dataset에 결측치 하나도 없음\n",
        "print(f\"train_data 결측치 개수: {train_data.isnull().sum().sum()}\")\n",
        "print(f\"train_labels 결측치 개수: {train_labels.isnull().sum().sum()}\")\n",
        "print(f\"test_data 결측치 개수: {test_data.isnull().sum().sum()}\")\n",
        "print(f\"test_labels 결측치 개수: {test_labels.isnull().sum().sum()}\")"
      ],
      "metadata": {
        "id": "9ur-sKF-riej"
      },
      "execution_count": null,
      "outputs": []
    },
    {
      "cell_type": "code",
      "source": [
        "### 데이터 정규화\n",
        "\n",
        "# 순서가 없는 범주형 데이터 -> 'One-Hot Encoding'\n",
        "## gender, ethnicity, employment_status, smoking_status, family_history_diabetes, hypertension_history, cardiovascular_history\n",
        "orderless_categorical_feature = ['gender', 'ethnicity', 'employment_status', 'smoking_status', 'family_history_diabetes', 'hypertension_history', 'cardiovascular_history']\n",
        "\n",
        "train_olcf_encode = pd.get_dummies(train_data[orderless_categorical_feature])\n",
        "test_olcf_encode = pd.get_dummies(test_data[orderless_categorical_feature])\n",
        "\n",
        "# 순서가 있는 범주형 데이터 -> 'Label Encoding'\n",
        "## education_level, income_level\n",
        "order_categorical_feature = ['education_level', 'income_level']\n",
        "\n",
        "# 수치형 데이터 -> '그냥 정규화'\n",
        "## age, alcohol_consumption_per_week, physical_activity_minutes_per_week, diet_score, sleep_hours_per_day, screen_time_hours_per_day, bmi, waist_to_hip_ratio\n",
        "## systolic_bp, diastolic_bp, heart_rate, cholesterol_total, cholesterol_total, ldl_cholesterol, triglycerides, glucose_fasting, glucose_postprandial, insulin_level\n",
        "## hba1c, diabetes_risk_score\n",
        "numerical_feature = ['age', 'alcohol_consumption_per_week', 'physical_activity_minutes_per_week', 'diet_score', 'sleep_hours_per_day', 'screen_time_hours_per_day', 'bmi', 'waist_to_hip_ratio',\n",
        "'systolic_bp', 'diastolic_bp', 'heart_rate', 'cholesterol_total', 'hdl_cholesterol', 'ldl_cholesterol', 'triglycerides', 'glucose_fasting', 'glucose_postprandial', 'insulin_level',\n",
        "'hba1c', 'diabetes_risk_score']\n",
        "\n",
        "mean = train_data[numerical_feature].mean(axis=0)\n",
        "std = train_data[numerical_feature].mean(axis=0)\n",
        "\n",
        "train_data = (train_data[numerical_feature] - mean) / std\n",
        "test_data = (test_data[numerical_feature] - mean) / std\n",
        "\n",
        "print(len(order_categorical_feature))\n",
        "print(len(orderless_categorical_feature))\n",
        "print(len(numerical_feature))\n",
        "print(len(orderless_categorical_feature) + len(order_categorical_feature) + len(numerical_feature))"
      ],
      "metadata": {
        "id": "JBIi_ksVsbXU"
      },
      "execution_count": null,
      "outputs": []
    },
    {
      "cell_type": "code",
      "source": [
        "# 수치형 데이터\n",
        "\n",
        "print(train_data.head())\n",
        "print(test_data.head())"
      ],
      "metadata": {
        "id": "p-R5jH_w1ZRT"
      },
      "execution_count": null,
      "outputs": []
    }
  ]
}