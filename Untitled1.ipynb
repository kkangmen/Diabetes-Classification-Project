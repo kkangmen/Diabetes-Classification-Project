{
  "nbformat": 4,
  "nbformat_minor": 0,
  "metadata": {
    "colab": {
      "provenance": [],
      "authorship_tag": "ABX9TyNnYPMPzto+nj89FEaRC7Ox",
      "include_colab_link": true
    },
    "kernelspec": {
      "name": "python3",
      "display_name": "Python 3"
    },
    "language_info": {
      "name": "python"
    }
  },
  "cells": [
    {
      "cell_type": "markdown",
      "metadata": {
        "id": "view-in-github",
        "colab_type": "text"
      },
      "source": [
        "<a href=\"https://colab.research.google.com/github/kkangmen/Diabetes-Classification-Project/blob/main/Untitled1.ipynb\" target=\"_parent\"><img src=\"https://colab.research.google.com/assets/colab-badge.svg\" alt=\"Open In Colab\"/></a>"
      ]
    },
    {
      "cell_type": "code",
      "execution_count": null,
      "metadata": {
        "id": "M6twEiWccEd3"
      },
      "outputs": [],
      "source": [
        "import tensorflow as tf\n",
        "from tensorflow import keras\n",
        "from keras import models\n",
        "from keras import layers\n",
        "import numpy as np\n",
        "\n",
        "# 1. 데이터셋 준비\n",
        "# MNIST 데이터셋 로드\n",
        "mnist = keras.datasets.mnist\n",
        "(train_images, train_labels), (test_images, test_labels) = mnist.load_data()\n",
        "\n",
        "# 픽셀 값 정규화 (0-255 -> 0-1)\n",
        "train_images, test_images = train_images / 255.0, test_images / 255.0\n",
        "print(\"훈련 데이터 형태:\", train_images.shape)\n",
        "print(\"테스트 데이터 형태:\", test_images.shape)\n",
        "\n",
        "# ---\n",
        "# 2. 모델 구성\n",
        "# Sequential 모델을 사용하여 층을 순서대로 쌓음\n",
        "model = keras.Sequential([\n",
        "    # 이미지를 1차원 배열로 펼침\n",
        "    layers.Flatten(input_shape=(28, 28)),\n",
        "    # 128개의 뉴런을 가진 완전 연결 층 (활성화 함수: ReLU)\n",
        "    layers.Dense(784, activation='relu'),\n",
        "    # 과적합 방지를 위한 드롭아웃\n",
        "    layers.Dropout(0.2),\n",
        "    # 10개의 뉴런을 가진 출력 층 (활성화 함수: Softmax)\n",
        "    layers.Dense(10, activation='softmax')\n",
        "])\n",
        "\n",
        "# ---\n",
        "# 3. 모델 컴파일\n",
        "# 손실 함수, 옵티마이저, 평가 지표 설정\n",
        "model.compile(optimizer='adam',\n",
        "              loss='sparse_categorical_crossentropy',\n",
        "              metrics=['accuracy'])\n",
        "\n",
        "# ---\n",
        "# 4. 모델 학습 (훈련)\n",
        "# 훈련 데이터로 모델 학습\n",
        "print(\"\\n모델 학습 시작...\")\n",
        "model.fit(train_images, train_labels, epochs=5)\n",
        "\n",
        "# ---\n",
        "# 5. 모델 평가\n",
        "# 테스트 데이터로 모델 성능 평가\n",
        "print(\"\\n모델 평가 시작...\")\n",
        "test_loss, test_acc = model.evaluate(test_images, test_labels, verbose=2)\n",
        "\n",
        "print(f\"\\n테스트 정확도: {test_acc:.4f}\")\n",
        "\n",
        "# ---\n",
        "# 6. 예측 예시\n",
        "# 테스트 데이터 중 첫 번째 이미지로 예측\n",
        "predictions = model.predict(test_images[:1])\n",
        "predicted_class = np.argmax(predictions[0])\n",
        "\n",
        "print(f\"\\n첫 번째 테스트 이미지 예측: {predicted_class}\")\n",
        "print(f\"실제 라벨: {test_labels[0]}\")"
      ]
    }
  ]
}